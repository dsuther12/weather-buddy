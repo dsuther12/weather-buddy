{
 "cells": [
  {
   "cell_type": "code",
   "execution_count": 16,
   "id": "dfb7beb0",
   "metadata": {},
   "outputs": [],
   "source": [
    "import urllib.request\n",
    "from bs4 import BeautifulSoup\n",
    "import re as re\n",
    "import requests\n",
    "from selenium import webdriver\n",
    "from selenium.webdriver.common.keys import Keys\n",
    "from selenium.common.exceptions import StaleElementReferenceException\n",
    "import time"
   ]
  },
  {
   "cell_type": "code",
   "execution_count": 22,
   "id": "d2bd298b",
   "metadata": {},
   "outputs": [],
   "source": [
    "headers = {\n",
    "    'User-Agent': 'Weather bot',\n",
    "    'From': 'dylansuther12@gmail.com'\n",
    "}\n",
    "\n",
    "\n",
    "#Page information\n",
    "url = 'https://www.weather.com'\n",
    "page = urllib.request.urlopen(url).read()\n",
    "\n",
    "#Chromedriver information for selenium\n",
    "driver = webdriver.Chrome()\n",
    "driver.get(url)\n",
    "\n",
    "#Search for address using selenium\n",
    "def SearchWeather(location):\n",
    "    try:\n",
    "        address = driver.find_element_by_id(\"LocationSearch_input\")\n",
    "        time.sleep(5)\n",
    "        address.send_keys(location)\n",
    "        time.sleep(5)\n",
    "        address.send_keys(Keys.ENTER)\n",
    "\n",
    "    except StaleElementReferenceException:\n",
    "        address = driver.find_element_by_id(\"LocationSearch_input\")\n",
    "        time.sleep(5)\n",
    "        address.send_keys(location)\n",
    "        time.sleep(5)\n",
    "        address.send_keys(Keys.ENTER)\n",
    "\n",
    "\n",
    "    \n",
    "    \n",
    "\n",
    "\n",
    "\n"
   ]
  }
 ],
 "metadata": {
  "kernelspec": {
   "display_name": "Python 3 (ipykernel)",
   "language": "python",
   "name": "python3"
  },
  "language_info": {
   "codemirror_mode": {
    "name": "ipython",
    "version": 3
   },
   "file_extension": ".py",
   "mimetype": "text/x-python",
   "name": "python",
   "nbconvert_exporter": "python",
   "pygments_lexer": "ipython3",
   "version": "3.10.9"
  }
 },
 "nbformat": 4,
 "nbformat_minor": 5
}
