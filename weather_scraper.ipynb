{
 "cells": [
  {
   "cell_type": "code",
   "execution_count": 6,
   "id": "dfb7beb0",
   "metadata": {},
   "outputs": [],
   "source": [
    "import urllib.request\n",
    "from bs4 import BeautifulSoup\n",
    "import re as re\n",
    "import requests\n",
    "from selenium import webdriver\n",
    "from selenium.webdriver.common.keys import Keys\n",
    "from selenium.common.exceptions import StaleElementReferenceException\n",
    "from selenium.webdriver.chrome.options import Options\n",
    "import time"
   ]
  },
  {
   "cell_type": "code",
   "execution_count": 22,
   "id": "d2bd298b",
   "metadata": {},
   "outputs": [
    {
     "name": "stdout",
     "output_type": "stream",
     "text": [
      "Enter a location to get weather information: Chattanooga\n",
      "\n",
      "Here is the weather data for Chattanooga, TN\n",
      "--------------------------------------------\n",
      "Current Temperature: 56°\n",
      "Current Wind Speed: 0 mph\n",
      "Current Weather Conditions: Mostly Cloudy\n"
     ]
    }
   ],
   "source": [
    "headers = {\n",
    "    'User-Agent': 'Weather bot',\n",
    "    'From': 'dylansuther12@gmail.com'\n",
    "}\n",
    "\n",
    "\n",
    "#Page information for selenium\n",
    "baseURL = 'https://www.weather.com'\n",
    "\n",
    "#Chromedriver information for selenium\n",
    "chrome_options = Options()\n",
    "chrome_options.add_argument('--headless')\n",
    "driver = webdriver.Chrome(options=chrome_options)\n",
    "driver.get(baseURL)\n",
    "\n",
    "#Search for address using selenium\n",
    "def searchWeather(location):\n",
    "    try:\n",
    "        address = driver.find_element_by_id(\"LocationSearch_input\")\n",
    "        time.sleep(2)\n",
    "        address.send_keys(location)\n",
    "        time.sleep(2)\n",
    "        address.send_keys(Keys.ENTER)\n",
    "\n",
    "    except StaleElementReferenceException:\n",
    "        address = driver.find_element_by_id(\"LocationSearch_input\")\n",
    "        time.sleep(2)\n",
    "        address.send_keys(location)\n",
    "        time.sleep(2)\n",
    "        address.send_keys(Keys.ENTER)\n",
    "        \n",
    "#Print out weather information for today\n",
    "def todaysWeather():\n",
    "    weatherData = {\n",
    "        'location' : weatherSoup.find(class_ = 'CurrentConditions--location--1YWj_').text,\n",
    "        'currentTemp': weatherSoup.find(class_ = \"CurrentConditions--tempValue--MHmYY\").text,\n",
    "        'windSpeed' : weatherSoup.find(class_ = \"Wind--windWrapper--3Ly7c undefined\").text[14:],\n",
    "        'currentConditions': weatherSoup.find(class_ = \"CurrentConditions--phraseValue--mZC_p\").text\n",
    "    }\n",
    "    \n",
    "    print(\"\\nHere is the weather data for \" + weatherData['location'] + \"\\n\" + \"-\" * + len(\"Here is the weather data for \" +\n",
    "                                                                               weatherData['location']))\n",
    "    \n",
    "    print(\"Current Temperature: \" + weatherData['currentTemp'] + \"\\nCurrent Wind Speed: \" + \n",
    "          weatherData['windSpeed'] + \"\\nCurrent Weather Conditions: \" + weatherData['currentConditions'])\n",
    "\n",
    "\n",
    "location = input(\"Enter a location to get weather information: \")\n",
    "searchWeather(location)\n",
    "\n",
    "soupURL = driver.current_url\n",
    "page = urllib.request.urlopen(soupURL).read()\n",
    "weatherSoup = BeautifulSoup(page)\n",
    "\n",
    "todaysWeather()\n",
    "\n",
    "    \n",
    "    \n",
    "\n",
    "\n",
    "\n"
   ]
  }
 ],
 "metadata": {
  "kernelspec": {
   "display_name": "Python 3 (ipykernel)",
   "language": "python",
   "name": "python3"
  },
  "language_info": {
   "codemirror_mode": {
    "name": "ipython",
    "version": 3
   },
   "file_extension": ".py",
   "mimetype": "text/x-python",
   "name": "python",
   "nbconvert_exporter": "python",
   "pygments_lexer": "ipython3",
   "version": "3.10.9"
  }
 },
 "nbformat": 4,
 "nbformat_minor": 5
}
